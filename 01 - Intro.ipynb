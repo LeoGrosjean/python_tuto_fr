{
 "cells": [
  {
   "cell_type": "markdown",
   "metadata": {},
   "source": [
    "Avant toute chose, j'essaye dans ce cour de vulgariser le python (un peu) pour ne pas effrayer les gens, il est possible que certaines de mes affirmations soient fausse (si on creuse)\n",
    "\n",
    "Si certaines choses ont l'air complexe, souvenez-vous :\n",
    "* Choc et déni: phase où les émotions semblent pratiquement absentes.\n",
    "* Colère: Impossible de prendre la pillule bleue\n",
    "* Dépression et douleur: grande tristesse, détresse, remises en question\n",
    "* Reconstruction: La réalité est beaucoup mieux comprise et acceptée.\n",
    "* Acceptation: Vous êtes désormais un demi-dieu"
   ]
  },
  {
   "cell_type": "markdown",
   "metadata": {},
   "source": [
    "# Les bases : Data et Opérations"
   ]
  },
  {
   "cell_type": "markdown",
   "metadata": {},
   "source": [
    "### Les types de données basic en Python sont :\n",
    "* Numbers\n",
    " * Integer <type 'int'> (précision arbitraire selon le nombre de bits)\n",
    " * Float <type 'float'>\n",
    " * Complex <type 'complex'> (1j pour les nombres imaginaires)\n",
    " \n",
    " \n",
    "* String <type 'str'>\n",
    " * Pas de difference entre quotes simple et double (', \")\n",
    " * On peut échaper les charaters spéciaux\n",
    " * Raw string r'raw strin' permet d'éviter d'échaper les char spéciaux\n",
    " * Les triples quotes (\"\"\"blabla\"\"\") permettent d'écrire sur plusieurs lignes\n",
    " * Unicode u'Acuity \\x26 Co' <type 'unicode'>\n",
    " \n",
    " \n",
    "* Booleans: True et False"
   ]
  },
  {
   "cell_type": "code",
   "execution_count": 1,
   "metadata": {
    "scrolled": true
   },
   "outputs": [
    {
     "data": {
      "text/plain": [
       "\"J'escape \\\\\""
      ]
     },
     "execution_count": 1,
     "metadata": {},
     "output_type": "execute_result"
    }
   ],
   "source": [
    "\"J'escape \\\\\""
   ]
  },
  {
   "cell_type": "code",
   "execution_count": 2,
   "metadata": {},
   "outputs": [
    {
     "data": {
      "text/plain": [
       "\"J'escape \\\\ pas\""
      ]
     },
     "execution_count": 2,
     "metadata": {},
     "output_type": "execute_result"
    }
   ],
   "source": [
    "r\"J'escape \\ pas\""
   ]
  },
  {
   "cell_type": "code",
   "execution_count": 3,
   "metadata": {},
   "outputs": [
    {
     "data": {
      "text/plain": [
       "'Acuity & Co'"
      ]
     },
     "execution_count": 3,
     "metadata": {},
     "output_type": "execute_result"
    }
   ],
   "source": [
    "u'Acuity \\x26 Co'"
   ]
  },
  {
   "cell_type": "code",
   "execution_count": 56,
   "metadata": {},
   "outputs": [
    {
     "data": {
      "text/plain": [
       "'\\nString sur\\nplusieurs\\nligne\\n'"
      ]
     },
     "execution_count": 56,
     "metadata": {},
     "output_type": "execute_result"
    }
   ],
   "source": [
    "\"\"\"\n",
    "String sur\n",
    "plusieurs\n",
    "ligne\n",
    "\"\"\""
   ]
  },
  {
   "cell_type": "markdown",
   "metadata": {},
   "source": [
    "### On peut faire ces opérations sur nos données"
   ]
  },
  {
   "cell_type": "markdown",
   "metadata": {},
   "source": [
    "* operators : Opération mathématique comme +, -, /, etc...\n",
    "* functions : Opération qui prennent ou non une ou plusieurs données comme argument\n",
    " * ex: type('hello'), len('acuity')\n",
    "* methods : les méthodes sont appelées depuis un objet (donnée) en utilisant un \".\" séparant la méthode de l'objet\n",
    " * ex: 'Hello Acuity'.split(), 'AcuityRoxx'.upper()"
   ]
  },
  {
   "cell_type": "markdown",
   "metadata": {},
   "source": [
    "Nos données peuvent être stockées dans des \"conteneurs\" comme:\n",
    "* Lists\n",
    "* Dictionnaires\n",
    "* Sets\n",
    "\n",
    "\n",
    "_Mais nous reviendrons là dessus plus tard !_"
   ]
  },
  {
   "cell_type": "markdown",
   "metadata": {},
   "source": [
    "## Un Interpreteur Dynamique"
   ]
  },
  {
   "cell_type": "markdown",
   "metadata": {},
   "source": [
    "__N'hésite pas à créer une cellule dans ton notebook pour tester, tu gagneras un bonbon !!__"
   ]
  },
  {
   "cell_type": "markdown",
   "metadata": {},
   "source": [
    "Dans la case ci-dessous, écrivez \"5 + 7\" sans les guillemets (\") et faites ___shift + entrer___ sur votre clavier"
   ]
  },
  {
   "cell_type": "code",
   "execution_count": 4,
   "metadata": {},
   "outputs": [
    {
     "data": {
      "text/plain": [
       "12"
      ]
     },
     "execution_count": 4,
     "metadata": {},
     "output_type": "execute_result"
    }
   ],
   "source": [
    "5 + 7"
   ]
  },
  {
   "cell_type": "code",
   "execution_count": 34,
   "metadata": {},
   "outputs": [
    {
     "data": {
      "text/plain": [
       "int"
      ]
     },
     "execution_count": 34,
     "metadata": {},
     "output_type": "execute_result"
    }
   ],
   "source": [
    "type(5 + 7)"
   ]
  },
  {
   "cell_type": "code",
   "execution_count": 25,
   "metadata": {},
   "outputs": [
    {
     "data": {
      "text/plain": [
       "-1.0"
      ]
     },
     "execution_count": 25,
     "metadata": {},
     "output_type": "execute_result"
    }
   ],
   "source": [
    "4.5 - 5.5"
   ]
  },
  {
   "cell_type": "code",
   "execution_count": 26,
   "metadata": {},
   "outputs": [
    {
     "data": {
      "text/plain": [
       "float"
      ]
     },
     "execution_count": 26,
     "metadata": {},
     "output_type": "execute_result"
    }
   ],
   "source": [
    "type(7.1 - 2.1)"
   ]
  },
  {
   "cell_type": "code",
   "execution_count": 27,
   "metadata": {},
   "outputs": [
    {
     "data": {
      "text/plain": [
       "2.6"
      ]
     },
     "execution_count": 27,
     "metadata": {},
     "output_type": "execute_result"
    }
   ],
   "source": [
    "13/5"
   ]
  },
  {
   "cell_type": "code",
   "execution_count": 28,
   "metadata": {},
   "outputs": [
    {
     "data": {
      "text/plain": [
       "2"
      ]
     },
     "execution_count": 28,
     "metadata": {},
     "output_type": "execute_result"
    }
   ],
   "source": [
    "13//5 "
   ]
  },
  {
   "cell_type": "code",
   "execution_count": 30,
   "metadata": {},
   "outputs": [
    {
     "data": {
      "text/plain": [
       "'hello acuity'"
      ]
     },
     "execution_count": 30,
     "metadata": {},
     "output_type": "execute_result"
    }
   ],
   "source": [
    "\"hello\" + \" acuity\""
   ]
  },
  {
   "cell_type": "code",
   "execution_count": 32,
   "metadata": {},
   "outputs": [
    {
     "data": {
      "text/plain": [
       "'Acuity roooooooooooooooooooox a lot !'"
      ]
     },
     "execution_count": 32,
     "metadata": {},
     "output_type": "execute_result"
    }
   ],
   "source": [
    "\"Acuity r\" + \"o\"*20 + 'x a lot !'"
   ]
  },
  {
   "cell_type": "markdown",
   "metadata": {},
   "source": [
    "Maintenant, je veux mettre plusieurs instructions dans un bloc, que va t'il se passer ?"
   ]
  },
  {
   "cell_type": "code",
   "execution_count": 1,
   "metadata": {},
   "outputs": [
    {
     "data": {
      "text/plain": [
       "-1.0"
      ]
     },
     "execution_count": 1,
     "metadata": {},
     "output_type": "execute_result"
    }
   ],
   "source": [
    "\"J'escape \\\\\"\n",
    "\"hello\" + \" acuity\"\n",
    "4.5 - 5.5"
   ]
  },
  {
   "cell_type": "markdown",
   "metadata": {},
   "source": [
    "Arf, seulement la dernière instruction a été affichée...\n",
    "Comment résoudre celà ?"
   ]
  },
  {
   "cell_type": "code",
   "execution_count": 2,
   "metadata": {},
   "outputs": [
    {
     "name": "stdout",
     "output_type": "stream",
     "text": [
      "J'escape \\\n",
      "hello acuity\n",
      "-1.0\n"
     ]
    }
   ],
   "source": [
    "print(\"J'escape \\\\\")\n",
    "print(\"hello\" + \" acuity\")\n",
    "print(4.5 - 5.5)"
   ]
  },
  {
   "cell_type": "markdown",
   "metadata": {},
   "source": [
    "## Built-in fonctions et methodes\n",
    "___built-in___ pour signifier que ces fonctionnalité sont de base disponible, vous comprendrez plus tard quand on parlera de ***librairies***"
   ]
  },
  {
   "cell_type": "markdown",
   "metadata": {},
   "source": [
    "* help(x) : documentation interactive\n",
    "* dir(x) : montre le directory de l'objet, toutes les méthodes qui lui sont associées\n",
    "* type(x) : donne le type de l'objet (ex: type('bla') et type('blou') retournera la même chose (string)\n",
    "* isinstance(a, b) : retournera True ou False si l'objet a est une instance de b, avec b un type (ex: type(a) == b)\n",
    "* print(x) : pour afficher en output la valeur de l'objet\n",
    "* hasattr(a, b) : retournera True ou False si l'objet a est le nom d'une méthode/paramètre de b (ex: b in dir(a))\n",
    "* getattr\n",
    "* id\n",
    "* input\n",
    "\n",
    "\n",
    "Pas de panique, pour faire de la data, les plus utiles sont help, print, type, dir"
   ]
  },
  {
   "cell_type": "markdown",
   "metadata": {},
   "source": [
    "met _str_ a la place de _int_"
   ]
  },
  {
   "cell_type": "code",
   "execution_count": 58,
   "metadata": {},
   "outputs": [
    {
     "data": {
      "text/plain": [
       "True"
      ]
     },
     "execution_count": 58,
     "metadata": {},
     "output_type": "execute_result"
    }
   ],
   "source": [
    "isinstance('str', int)"
   ]
  },
  {
   "cell_type": "markdown",
   "metadata": {},
   "source": [
    "met _count_ a la place de _euuuh_"
   ]
  },
  {
   "cell_type": "code",
   "execution_count": 49,
   "metadata": {},
   "outputs": [
    {
     "data": {
      "text/plain": [
       "False"
      ]
     },
     "execution_count": 49,
     "metadata": {},
     "output_type": "execute_result"
    }
   ],
   "source": [
    "hasattr('ma_string', 'euuuh')"
   ]
  },
  {
   "cell_type": "markdown",
   "metadata": {},
   "source": [
    "#### Les Constructeurs"
   ]
  },
  {
   "cell_type": "markdown",
   "metadata": {},
   "source": [
    "Les constructeurs sont des fonctions qui convertissent l'argument donné dans le type de donnée souhaité\n",
    "\n",
    "___On appel ça un cast___"
   ]
  },
  {
   "cell_type": "markdown",
   "metadata": {},
   "source": [
    "* str : cast un objet dans sa représentation string\n",
    "* int : transforme les float en entier, essaye de convertir le reste \n",
    "* float : ...\n",
    "* complex : prend en argument (reel, imaginaire)"
   ]
  },
  {
   "cell_type": "code",
   "execution_count": 62,
   "metadata": {},
   "outputs": [
    {
     "data": {
      "text/plain": [
       "(1+2j)"
      ]
     },
     "execution_count": 62,
     "metadata": {},
     "output_type": "execute_result"
    }
   ],
   "source": [
    "complex(1,2)"
   ]
  },
  {
   "cell_type": "code",
   "execution_count": 64,
   "metadata": {},
   "outputs": [
    {
     "name": "stdout",
     "output_type": "stream",
     "text": [
      "<class 'str'>\n",
      "<class 'int'>\n"
     ]
    },
    {
     "data": {
      "text/plain": [
       "32"
      ]
     },
     "execution_count": 64,
     "metadata": {},
     "output_type": "execute_result"
    }
   ],
   "source": [
    "print(type('32'))\n",
    "print(type(int('32')))\n",
    "\n",
    "int('32')"
   ]
  },
  {
   "cell_type": "markdown",
   "metadata": {},
   "source": [
    "Oui, c'est plus malin de mettre directement ***voir ci-dessous***, mais c'est juste pour vous montrer"
   ]
  },
  {
   "cell_type": "code",
   "execution_count": 66,
   "metadata": {},
   "outputs": [
    {
     "data": {
      "text/plain": [
       "32"
      ]
     },
     "execution_count": 66,
     "metadata": {},
     "output_type": "execute_result"
    }
   ],
   "source": [
    "int(32)"
   ]
  },
  {
   "cell_type": "markdown",
   "metadata": {
    "pycharm": {
     "name": "#%% md\n"
    }
   },
   "source": [
    "D'autres fonctions built-in ne fonctionne que sur certains type de données:\n",
    "* #### Numbers:\n",
    " 1. Functions: \n",
    "   * abs\n",
    "   * round\n",
    "   * float\n",
    "   * max\n",
    "   * min\n",
    "   * pow\n",
    "   * chr\n",
    "   * divmod\n",
    "   * etc...\n",
    " 2. Operators: (standard math, bitwise)\n",
    "   * <<\n",
    "   * \\>\\>\n",
    "   * &\n",
    "   * | (alt + L) pipe\n",
    "   * ^\n",
    "   * ~ (alt + N) tild\n",
    " 3. Methods:\n",
    "   * ... utiliser ___dir(32)___ pour en savoir plus !\n",
    "\n",
    "* #### Strings:\n",
    " 1. Functions:\n",
    "   * len\n",
    "   * min\n",
    "   * max\n",
    "   * ord\n",
    " 2. Operators:\n",
    "   * +\n",
    "   * \\* (avec un entier)\n",
    "   * in\n",
    " 3. Methods:\n",
    "   * strip\n",
    "   * split\n",
    "   * startswith\n",
    "   * upper\n",
    "   * find\n",
    "   * index\n",
    "   * ... utiliser ___dir('ma_string')___ pour en savoir plus !\n",
    "  \n",
    "Testes en ci-desous !"
   ]
  },
  {
   "cell_type": "code",
   "execution_count": null,
   "outputs": [],
   "source": [],
   "metadata": {
    "collapsed": false,
    "pycharm": {
     "name": "#%%\n"
    }
   }
  }
 ],
 "metadata": {
  "kernelspec": {
   "display_name": "Python 3",
   "language": "python",
   "name": "python3"
  },
  "language_info": {
   "codemirror_mode": {
    "name": "ipython",
    "version": 3
   },
   "file_extension": ".py",
   "mimetype": "text/x-python",
   "name": "python",
   "nbconvert_exporter": "python",
   "pygments_lexer": "ipython3",
   "version": "3.7.5"
  },
  "pycharm": {
   "stem_cell": {
    "cell_type": "raw",
    "source": [],
    "metadata": {
     "collapsed": false
    }
   }
  }
 },
 "nbformat": 4,
 "nbformat_minor": 4
}